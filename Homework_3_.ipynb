{
  "nbformat": 4,
  "nbformat_minor": 0,
  "metadata": {
    "colab": {
      "provenance": []
    },
    "kernelspec": {
      "name": "python3",
      "display_name": "Python 3"
    },
    "language_info": {
      "name": "python"
    }
  },
  "cells": [
    {
      "cell_type": "code",
      "execution_count": null,
      "metadata": {
        "colab": {
          "base_uri": "https://localhost:8080/"
        },
        "id": "XC9kJRTTkb1H",
        "outputId": "99a7df29-de50-4ee7-c711-4c4e28e43ba4"
      },
      "outputs": [
        {
          "output_type": "stream",
          "name": "stdout",
          "text": [
            "55\n"
          ]
        }
      ],
      "source": [
        "def print_student(student_name):\n",
        " marks = {'Andy' : 88,  'Amy' : 66,'James': 90, 'Jules': 55, 'Arthur': 77 }\n",
        "for student in marks:\n",
        "  if student == student_name:\n",
        "    print(marks[student]) \n",
        "    break \n",
        "else: \n",
        "  print(\"cannot find this students name\")\n",
        "  student_name='Jules'\n",
        "  print_student('Jules')"
      ]
    },
    {
      "cell_type": "code",
      "source": [
        "def marks_average(num):\n",
        "    sum_num = 0\n",
        "    for i in num:\n",
        "        sum_num = sum_num + i           \n",
        "\n",
        "    avg = sum_num / len(num)\n",
        "    return avg\n",
        "\n",
        "print(marks_average([88,66,90,55,77]))"
      ],
      "metadata": {
        "colab": {
          "base_uri": "https://localhost:8080/"
        },
        "id": "71wrciioG6jE",
        "outputId": "8583de8f-d48c-484c-e16f-934f20c40a03"
      },
      "execution_count": 39,
      "outputs": [
        {
          "output_type": "stream",
          "name": "stdout",
          "text": [
            "75.2\n"
          ]
        }
      ]
    },
    {
      "cell_type": "markdown",
      "source": [],
      "metadata": {
        "id": "5L0H55RwKRGd"
      }
    },
    {
      "cell_type": "code",
      "source": [
        "def less_greater(num): \n",
        "  n=0\n",
        "  while n<=num:\n",
        "    print(n)\n",
        "    n+=1\n",
        "  else:\n",
        "    print(\"greater than\",num)\n",
        "less_greater(8)\n",
        "def modify_elements(items):\n",
        "  for i in range(len(items)):\n",
        "    items[i]*=2\n",
        "numbers=[1,2,3,4,5,6,7,8]\n",
        "modify_elements(numbers)\n",
        "numbers"
      ],
      "metadata": {
        "id": "f66-AhKM_pMT",
        "colab": {
          "base_uri": "https://localhost:8080/"
        },
        "outputId": "0ea9562c-365e-431a-eedb-5af79ec1cc73"
      },
      "execution_count": 27,
      "outputs": [
        {
          "output_type": "stream",
          "name": "stdout",
          "text": [
            "0\n",
            "1\n",
            "2\n",
            "3\n",
            "4\n",
            "5\n",
            "6\n",
            "7\n",
            "8\n",
            "greater than 8\n"
          ]
        },
        {
          "output_type": "execute_result",
          "data": {
            "text/plain": [
              "[2, 4, 6, 8, 10, 12, 14, 16]"
            ]
          },
          "metadata": {},
          "execution_count": 27
        }
      ]
    },
    {
      "cell_type": "code",
      "source": [
        "def sum(n):\n",
        " n=20\n",
        "sum=0\n",
        "i=1\n",
        "while i<=20:\n",
        "  sum=sum+i\n",
        "  i=i+1\n",
        "  print(sum)\n"
      ],
      "metadata": {
        "id": "jYJIOOvc_pji",
        "colab": {
          "base_uri": "https://localhost:8080/"
        },
        "outputId": "3868e204-90c1-428d-8875-0fc459a12518"
      },
      "execution_count": 5,
      "outputs": [
        {
          "output_type": "stream",
          "name": "stdout",
          "text": [
            "1\n",
            "3\n",
            "6\n",
            "10\n",
            "15\n",
            "21\n",
            "28\n",
            "36\n",
            "45\n",
            "55\n",
            "66\n",
            "78\n",
            "91\n",
            "105\n",
            "120\n",
            "136\n",
            "153\n",
            "171\n",
            "190\n",
            "210\n"
          ]
        }
      ]
    },
    {
      "cell_type": "code",
      "source": [
        "def range_sum(num): \n",
        "  sum=0 \n",
        "  for n in range (num):\n",
        "    sum=sum+n\n",
        "    print(sum)\n",
        "range_sum(25)"
      ],
      "metadata": {
        "colab": {
          "base_uri": "https://localhost:8080/"
        },
        "id": "S6-4p74R_ptS",
        "outputId": "01797b1e-0a28-48b9-df1c-c6b10276c2a3"
      },
      "execution_count": 38,
      "outputs": [
        {
          "output_type": "stream",
          "name": "stdout",
          "text": [
            "0\n",
            "1\n",
            "3\n",
            "6\n",
            "10\n",
            "15\n",
            "21\n",
            "28\n",
            "36\n",
            "45\n",
            "55\n",
            "66\n",
            "78\n",
            "91\n",
            "105\n",
            "120\n",
            "136\n",
            "153\n",
            "171\n",
            "190\n",
            "210\n",
            "231\n",
            "253\n",
            "276\n",
            "300\n"
          ]
        }
      ]
    },
    {
      "cell_type": "code",
      "source": [
        "def sum(n):\n",
        " n=30\n",
        "sum=0\n",
        "i=1\n",
        "while i<=30:\n",
        "  sum=sum+i\n",
        "  i=i+1\n",
        "  print(sum)"
      ],
      "metadata": {
        "id": "krALzCQ67cMl",
        "colab": {
          "base_uri": "https://localhost:8080/"
        },
        "outputId": "0d873676-bfa0-4888-89e3-b4b51335bb1b"
      },
      "execution_count": 48,
      "outputs": [
        {
          "output_type": "stream",
          "name": "stdout",
          "text": [
            "1\n",
            "3\n",
            "6\n",
            "10\n",
            "15\n",
            "21\n",
            "28\n",
            "36\n",
            "45\n",
            "55\n",
            "66\n",
            "78\n",
            "91\n",
            "105\n",
            "120\n",
            "136\n",
            "153\n",
            "171\n",
            "190\n",
            "210\n",
            "231\n",
            "253\n",
            "276\n",
            "300\n",
            "325\n",
            "351\n",
            "378\n",
            "406\n",
            "435\n",
            "465\n"
          ]
        }
      ]
    },
    {
      "cell_type": "code",
      "source": [
        "import numpy as np\n",
        "def mean(data):\n",
        "  n = len(data)\n",
        "  mean = sum(data) / n\n",
        "  return mean\n",
        "def variance(data):\n",
        "  n = len(data)\n",
        "  mean = sum(data) / n\n",
        "  deviations = [(x - mean) ** 2 for x in data]\n",
        "  variance = sum(deviations) / n\n",
        "  return variance\n",
        "def stdev(data):\n",
        "  import math\n",
        "  var = variance(data)\n",
        "  std_dev = math.sqrt(var)\n",
        "  return std_dev\n",
        "\n",
        "data = np.array([1,2,3,4,5,6,7,8,9,10,11,12,13,14,15,16,17,18,19,20,21,22,23,24,25,26,27,28,29,30])\n",
        "print((stdev(data)))\n",
        "print((mean(data))) \n"
      ],
      "metadata": {
        "colab": {
          "base_uri": "https://localhost:8080/"
        },
        "id": "UZOOHoiLQli9",
        "outputId": "1ee25d35-d291-4d4e-ae03-645ec1bc5aa4"
      },
      "execution_count": 46,
      "outputs": [
        {
          "output_type": "stream",
          "name": "stdout",
          "text": [
            "8.65544144839919\n",
            "15.5\n"
          ]
        }
      ]
    },
    {
      "cell_type": "code",
      "source": [
        "def average(*args): \n",
        "  return sum(args)/len(args)\n",
        "  average(1,100)\n",
        "  print_average(sum)"
      ],
      "metadata": {
        "id": "OehVkhW24Gh3"
      },
      "execution_count": 19,
      "outputs": []
    },
    {
      "cell_type": "code",
      "source": [
        "def sdt(num):\n",
        "  sdt(1,100)\n",
        "  print(1,100)"
      ],
      "metadata": {
        "id": "rJAKYiiPFaaY"
      },
      "execution_count": 10,
      "outputs": []
    },
    {
      "cell_type": "code",
      "source": [
        "def min( v1, v2, v3,v4): \n",
        "  min=v1 \n",
        "  if v2<min: \n",
        "    min=v2 \n",
        "  if v3<min: \n",
        "    min=v3\n",
        "  if v4<min:\n",
        "    min=v4\n",
        "  return min  \n",
        "min(62,90,84,77)"
      ],
      "metadata": {
        "colab": {
          "base_uri": "https://localhost:8080/"
        },
        "id": "vZk0zRLE_p5c",
        "outputId": "a6fff2f0-b646-46d9-c9f7-5e9d7f9e8fe6"
      },
      "execution_count": null,
      "outputs": [
        {
          "output_type": "execute_result",
          "data": {
            "text/plain": [
              "62"
            ]
          },
          "metadata": {},
          "execution_count": 37
        }
      ]
    },
    {
      "cell_type": "code",
      "source": [
        "list1=[20,30,40]\n",
        "list2=[60,80,100]\n",
        "list3=[5,10,15]\n",
        "concatenated_list= list1+ list2+ list3\n",
        "concatenated_list"
      ],
      "metadata": {
        "colab": {
          "base_uri": "https://localhost:8080/"
        },
        "id": "EKnicsDS_qCv",
        "outputId": "c80cea10-bb81-46d0-b182-4164d183674c"
      },
      "execution_count": null,
      "outputs": [
        {
          "output_type": "execute_result",
          "data": {
            "text/plain": [
              "[20, 30, 40, 60, 80, 100, 5, 10, 15]"
            ]
          },
          "metadata": {},
          "execution_count": 1
        }
      ]
    }
  ]
}